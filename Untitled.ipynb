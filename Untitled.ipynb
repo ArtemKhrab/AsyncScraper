{
 "cells": [
  {
   "cell_type": "code",
   "execution_count": 51,
   "id": "76450531",
   "metadata": {},
   "outputs": [],
   "source": [
    "import  re\n",
    "\n",
    "from selenium import webdriver\n",
    "from selenium.webdriver.chrome.service import Service\n",
    "from webdriver_manager.chrome import ChromeDriverManager\n",
    "import requests\n",
    "from requests_html import HTML\n",
    "import pandas as pd\n",
    "\n",
    "url = 'https://rozetka.com.ua/notebooks/c80004/'"
   ]
  },
  {
   "cell_type": "code",
   "execution_count": 43,
   "id": "a377884c",
   "metadata": {},
   "outputs": [],
   "source": [
    "def scraper(url):\n",
    "    driver = webdriver.Chrome(service=Service(ChromeDriverManager().install()))\n",
    "    driver.get(url)\n",
    "    return driver.page_source\n",
    "\n",
    "def extract_id(url_path):\n",
    "    regex = r\"https:\\/\\/rozetka\\.com\\.ua\\/(?P<name>[\\w-]+)\\/p(?P<id>\\d+)\"\n",
    "    group = re.match(regex, url_path)\n",
    "    if not group:\n",
    "        return None, None\n",
    "    return group[\"id\"], group[\"name\"]\n"
   ]
  },
  {
   "cell_type": "code",
   "execution_count": 40,
   "id": "ad27b77f",
   "metadata": {},
   "outputs": [
    {
     "name": "stdout",
     "output_type": "stream",
     "text": [
      "\n"
     ]
    },
    {
     "name": "stderr",
     "output_type": "stream",
     "text": [
      "[WDM] - ====== WebDriver manager ======\n"
     ]
    },
    {
     "name": "stdout",
     "output_type": "stream",
     "text": [
      "2022-07-04 23:03:26,460 INFO ====== WebDriver manager ======\n"
     ]
    },
    {
     "name": "stderr",
     "output_type": "stream",
     "text": [
      "[WDM] - Current google-chrome version is 103.0.5060\n"
     ]
    },
    {
     "name": "stdout",
     "output_type": "stream",
     "text": [
      "2022-07-04 23:03:26,463 INFO Current google-chrome version is 103.0.5060\n"
     ]
    },
    {
     "name": "stderr",
     "output_type": "stream",
     "text": [
      "[WDM] - Get LATEST chromedriver version for 103.0.5060 google-chrome\n"
     ]
    },
    {
     "name": "stdout",
     "output_type": "stream",
     "text": [
      "2022-07-04 23:03:26,465 INFO Get LATEST chromedriver version for 103.0.5060 google-chrome\n"
     ]
    },
    {
     "name": "stderr",
     "output_type": "stream",
     "text": [
      "[WDM] - Driver [C:\\Users\\raise\\.wdm\\drivers\\chromedriver\\win32\\103.0.5060.53\\chromedriver.exe] found in cache\n"
     ]
    },
    {
     "name": "stdout",
     "output_type": "stream",
     "text": [
      "2022-07-04 23:03:26,608 INFO Driver [C:\\Users\\raise\\.wdm\\drivers\\chromedriver\\win32\\103.0.5060.53\\chromedriver.exe] found in cache\n"
     ]
    }
   ],
   "source": [
    "content = scraper(url)\n"
   ]
  },
  {
   "cell_type": "code",
   "execution_count": 41,
   "id": "f3d14344",
   "metadata": {},
   "outputs": [],
   "source": [
    "html_r = HTML(html=content)"
   ]
  },
  {
   "cell_type": "code",
   "execution_count": 48,
   "id": "e29493fc",
   "metadata": {},
   "outputs": [],
   "source": [
    "laptop_links = [x for x in list(html_r.links) if x.startswith(\"https://rozetka.com.ua/\")]\n",
    "\n",
    "datas = []\n",
    "for path in laptop_links:\n",
    "    _id, _name = extract_id(path)\n",
    "    if _id:\n",
    "        data = {\n",
    "            \"id\":_id, \n",
    "            \"name\": _name,\n",
    "            \"path\": path,\n",
    "            \"scraped\": 0\n",
    "        }\n",
    "        datas.append(data)"
   ]
  },
  {
   "cell_type": "code",
   "execution_count": 52,
   "id": "c9f3067f",
   "metadata": {},
   "outputs": [
    {
     "data": {
      "text/html": [
       "<div>\n",
       "<style scoped>\n",
       "    .dataframe tbody tr th:only-of-type {\n",
       "        vertical-align: middle;\n",
       "    }\n",
       "\n",
       "    .dataframe tbody tr th {\n",
       "        vertical-align: top;\n",
       "    }\n",
       "\n",
       "    .dataframe thead th {\n",
       "        text-align: right;\n",
       "    }\n",
       "</style>\n",
       "<table border=\"1\" class=\"dataframe\">\n",
       "  <thead>\n",
       "    <tr style=\"text-align: right;\">\n",
       "      <th></th>\n",
       "      <th>id</th>\n",
       "      <th>name</th>\n",
       "      <th>path</th>\n",
       "      <th>scraped</th>\n",
       "    </tr>\n",
       "  </thead>\n",
       "  <tbody>\n",
       "    <tr>\n",
       "      <th>0</th>\n",
       "      <td>329142718</td>\n",
       "      <td>lenovo-82h800ugra</td>\n",
       "      <td>https://rozetka.com.ua/lenovo-82h800ugra/p3291...</td>\n",
       "      <td>0</td>\n",
       "    </tr>\n",
       "    <tr>\n",
       "      <th>1</th>\n",
       "      <td>328047400</td>\n",
       "      <td>lenovo-82h700pvra</td>\n",
       "      <td>https://rozetka.com.ua/lenovo-82h700pvra/p3280...</td>\n",
       "      <td>0</td>\n",
       "    </tr>\n",
       "    <tr>\n",
       "      <th>2</th>\n",
       "      <td>324009400</td>\n",
       "      <td>lenovo-82h700l0ra</td>\n",
       "      <td>https://rozetka.com.ua/lenovo-82h700l0ra/p3240...</td>\n",
       "      <td>0</td>\n",
       "    </tr>\n",
       "    <tr>\n",
       "      <th>3</th>\n",
       "      <td>319601017</td>\n",
       "      <td>asus-90nb0tv1-m02230</td>\n",
       "      <td>https://rozetka.com.ua/asus-90nb0tv1-m02230/p3...</td>\n",
       "      <td>0</td>\n",
       "    </tr>\n",
       "    <tr>\n",
       "      <th>4</th>\n",
       "      <td>344107234</td>\n",
       "      <td>asus-90nb0tz2-m006k0</td>\n",
       "      <td>https://rozetka.com.ua/asus-90nb0tz2-m006k0/p3...</td>\n",
       "      <td>0</td>\n",
       "    </tr>\n",
       "  </tbody>\n",
       "</table>\n",
       "</div>"
      ],
      "text/plain": [
       "          id                  name  \\\n",
       "0  329142718     lenovo-82h800ugra   \n",
       "1  328047400     lenovo-82h700pvra   \n",
       "2  324009400     lenovo-82h700l0ra   \n",
       "3  319601017  asus-90nb0tv1-m02230   \n",
       "4  344107234  asus-90nb0tz2-m006k0   \n",
       "\n",
       "                                                path  scraped  \n",
       "0  https://rozetka.com.ua/lenovo-82h800ugra/p3291...        0  \n",
       "1  https://rozetka.com.ua/lenovo-82h700pvra/p3280...        0  \n",
       "2  https://rozetka.com.ua/lenovo-82h700l0ra/p3240...        0  \n",
       "3  https://rozetka.com.ua/asus-90nb0tv1-m02230/p3...        0  \n",
       "4  https://rozetka.com.ua/asus-90nb0tz2-m006k0/p3...        0  "
      ]
     },
     "execution_count": 52,
     "metadata": {},
     "output_type": "execute_result"
    }
   ],
   "source": [
    "df = pd.DataFrame(datas)\n",
    "df.head()"
   ]
  },
  {
   "cell_type": "code",
   "execution_count": 54,
   "id": "374be567",
   "metadata": {},
   "outputs": [],
   "source": [
    "df.to_csv('rozetka_laptops.csv', index=False)"
   ]
  },
  {
   "cell_type": "code",
   "execution_count": 58,
   "id": "df4665fb",
   "metadata": {},
   "outputs": [
    {
     "data": {
      "text/html": [
       "<div>\n",
       "<style scoped>\n",
       "    .dataframe tbody tr th:only-of-type {\n",
       "        vertical-align: middle;\n",
       "    }\n",
       "\n",
       "    .dataframe tbody tr th {\n",
       "        vertical-align: top;\n",
       "    }\n",
       "\n",
       "    .dataframe thead th {\n",
       "        text-align: right;\n",
       "    }\n",
       "</style>\n",
       "<table border=\"1\" class=\"dataframe\">\n",
       "  <thead>\n",
       "    <tr style=\"text-align: right;\">\n",
       "      <th></th>\n",
       "      <th>id</th>\n",
       "      <th>name</th>\n",
       "      <th>path</th>\n",
       "      <th>scraped</th>\n",
       "    </tr>\n",
       "  </thead>\n",
       "  <tbody>\n",
       "    <tr>\n",
       "      <th>0</th>\n",
       "      <td>329142718</td>\n",
       "      <td>lenovo-82h800ugra</td>\n",
       "      <td>https://rozetka.com.ua/lenovo-82h800ugra/p3291...</td>\n",
       "      <td>0</td>\n",
       "    </tr>\n",
       "    <tr>\n",
       "      <th>1</th>\n",
       "      <td>328047400</td>\n",
       "      <td>lenovo-82h700pvra</td>\n",
       "      <td>https://rozetka.com.ua/lenovo-82h700pvra/p3280...</td>\n",
       "      <td>0</td>\n",
       "    </tr>\n",
       "    <tr>\n",
       "      <th>2</th>\n",
       "      <td>324009400</td>\n",
       "      <td>lenovo-82h700l0ra</td>\n",
       "      <td>https://rozetka.com.ua/lenovo-82h700l0ra/p3240...</td>\n",
       "      <td>0</td>\n",
       "    </tr>\n",
       "    <tr>\n",
       "      <th>3</th>\n",
       "      <td>319601017</td>\n",
       "      <td>asus-90nb0tv1-m02230</td>\n",
       "      <td>https://rozetka.com.ua/asus-90nb0tv1-m02230/p3...</td>\n",
       "      <td>0</td>\n",
       "    </tr>\n",
       "    <tr>\n",
       "      <th>4</th>\n",
       "      <td>344107234</td>\n",
       "      <td>asus-90nb0tz2-m006k0</td>\n",
       "      <td>https://rozetka.com.ua/asus-90nb0tz2-m006k0/p3...</td>\n",
       "      <td>0</td>\n",
       "    </tr>\n",
       "    <tr>\n",
       "      <th>...</th>\n",
       "      <td>...</td>\n",
       "      <td>...</td>\n",
       "      <td>...</td>\n",
       "      <td>...</td>\n",
       "    </tr>\n",
       "    <tr>\n",
       "      <th>127</th>\n",
       "      <td>332259001</td>\n",
       "      <td>asus-90nb0v71-m02190</td>\n",
       "      <td>https://rozetka.com.ua/asus-90nb0v71-m02190/p3...</td>\n",
       "      <td>0</td>\n",
       "    </tr>\n",
       "    <tr>\n",
       "      <th>128</th>\n",
       "      <td>335892088</td>\n",
       "      <td>acer-nhqdleu008</td>\n",
       "      <td>https://rozetka.com.ua/acer-nhqdleu008/p335892...</td>\n",
       "      <td>0</td>\n",
       "    </tr>\n",
       "    <tr>\n",
       "      <th>129</th>\n",
       "      <td>332259001</td>\n",
       "      <td>asus-90nb0v71-m02190</td>\n",
       "      <td>https://rozetka.com.ua/asus-90nb0v71-m02190/p3...</td>\n",
       "      <td>0</td>\n",
       "    </tr>\n",
       "    <tr>\n",
       "      <th>130</th>\n",
       "      <td>331620700</td>\n",
       "      <td>acer-nxvlheu00a</td>\n",
       "      <td>https://rozetka.com.ua/acer-nxvlheu00a/p331620...</td>\n",
       "      <td>0</td>\n",
       "    </tr>\n",
       "    <tr>\n",
       "      <th>131</th>\n",
       "      <td>334830985</td>\n",
       "      <td>asus-90nb0w12-m00150</td>\n",
       "      <td>https://rozetka.com.ua/asus-90nb0w12-m00150/p3...</td>\n",
       "      <td>0</td>\n",
       "    </tr>\n",
       "  </tbody>\n",
       "</table>\n",
       "<p>132 rows × 4 columns</p>\n",
       "</div>"
      ],
      "text/plain": [
       "            id                  name  \\\n",
       "0    329142718     lenovo-82h800ugra   \n",
       "1    328047400     lenovo-82h700pvra   \n",
       "2    324009400     lenovo-82h700l0ra   \n",
       "3    319601017  asus-90nb0tv1-m02230   \n",
       "4    344107234  asus-90nb0tz2-m006k0   \n",
       "..         ...                   ...   \n",
       "127  332259001  asus-90nb0v71-m02190   \n",
       "128  335892088       acer-nhqdleu008   \n",
       "129  332259001  asus-90nb0v71-m02190   \n",
       "130  331620700       acer-nxvlheu00a   \n",
       "131  334830985  asus-90nb0w12-m00150   \n",
       "\n",
       "                                                  path  scraped  \n",
       "0    https://rozetka.com.ua/lenovo-82h800ugra/p3291...        0  \n",
       "1    https://rozetka.com.ua/lenovo-82h700pvra/p3280...        0  \n",
       "2    https://rozetka.com.ua/lenovo-82h700l0ra/p3240...        0  \n",
       "3    https://rozetka.com.ua/asus-90nb0tv1-m02230/p3...        0  \n",
       "4    https://rozetka.com.ua/asus-90nb0tz2-m006k0/p3...        0  \n",
       "..                                                 ...      ...  \n",
       "127  https://rozetka.com.ua/asus-90nb0v71-m02190/p3...        0  \n",
       "128  https://rozetka.com.ua/acer-nhqdleu008/p335892...        0  \n",
       "129  https://rozetka.com.ua/asus-90nb0v71-m02190/p3...        0  \n",
       "130  https://rozetka.com.ua/acer-nxvlheu00a/p331620...        0  \n",
       "131  https://rozetka.com.ua/asus-90nb0w12-m00150/p3...        0  \n",
       "\n",
       "[132 rows x 4 columns]"
      ]
     },
     "execution_count": 58,
     "metadata": {},
     "output_type": "execute_result"
    }
   ],
   "source": [
    "pd.read_csv('rozetka_laptops.csv')"
   ]
  },
  {
   "cell_type": "code",
   "execution_count": 57,
   "id": "da926645",
   "metadata": {},
   "outputs": [],
   "source": [
    "# !pip install arsenic"
   ]
  },
  {
   "cell_type": "code",
   "execution_count": 29,
   "id": "acfee3c2",
   "metadata": {},
   "outputs": [
    {
     "name": "stdout",
     "output_type": "stream",
     "text": [
      "Overwriting async_scrape.py\n"
     ]
    }
   ],
   "source": [
    "%%writefile async_scrape.py\n",
    "\n",
    "import os\n",
    "import asyncio\n",
    "from arsenic import get_session, keys, browsers, services\n",
    "from webdriver_manager.chrome import ChromeDriverManager\n",
    "import pandas as pd\n",
    "from requests_html import HTML\n",
    "import itertools\n",
    "import re\n",
    "import time\n",
    "import pathlib\n",
    "\n",
    "\n",
    "async def extract_id(url_path):\n",
    "    regex = r\"https:\\/\\/rozetka\\.com\\.ua\\/(?P<name>[\\w-]+)\\/p(?P<id>\\d+)\"\n",
    "    group = re.match(regex, url_path)\n",
    "    if not group:\n",
    "        return None, None\n",
    "    return group[\"id\"], group[\"name\"]\n",
    "\n",
    "\n",
    "async def scraper(url):\n",
    "    \n",
    "    service = services.Chromedriver(binary=\"./driver/chromedriver.exe\")\n",
    "    browser = browsers.Chrome()\n",
    "#     browser.capabilities = {\"chromeOptions\": {\"args\": [\"--headless\", \"--disable-gpu\"]}}\n",
    "    \n",
    "    async with get_session(service, browser) as session:\n",
    "        await session.get(url)\n",
    "        body = await session.get_page_source()\n",
    "        links = await get_links(body)\n",
    "        return links\n",
    "\n",
    "async def get_links(html_str):\n",
    "    \n",
    "    html_r = HTML(html=html_str)\n",
    "    laptop_links = [x for x in list(html_r.links) if x.startswith(\"https://rozetka.com.ua/\")]\n",
    "\n",
    "    datas = []\n",
    "    for path in laptop_links:\n",
    "        _id, _name = await extract_id(path)\n",
    "        if _id:\n",
    "            data = {\n",
    "                \"id\":_id, \n",
    "                \"name\": _name,\n",
    "                \"path\": path,\n",
    "                \"scraped\": 0\n",
    "            }\n",
    "            datas.append(data)\n",
    "    return datas\n",
    "\n",
    "async def run(urls):\n",
    "    links = []\n",
    "    for url in urls:\n",
    "        links.append(asyncio.create_task(scraper(url)))\n",
    "    list_of_links = asyncio.gather(*links)\n",
    "    return links\n",
    "\n",
    "if __name__ == \"__main__\":\n",
    "    url = 'https://rozetka.com.ua/notebooks/c80004/'\n",
    "    loop = asyncio.get_event_loop()\n",
    "#     results = loop.run_until_complete(scraper(url))\n",
    "    results = asyncio.run(run(url))"
   ]
  },
  {
   "cell_type": "code",
   "execution_count": null,
   "id": "2d668fe3",
   "metadata": {},
   "outputs": [],
   "source": [
    "!python async_scrape.py\n"
   ]
  },
  {
   "cell_type": "code",
   "execution_count": null,
   "id": "447eb090",
   "metadata": {},
   "outputs": [],
   "source": []
  }
 ],
 "metadata": {
  "kernelspec": {
   "display_name": "Python 3 (ipykernel)",
   "language": "python",
   "name": "python3"
  },
  "language_info": {
   "codemirror_mode": {
    "name": "ipython",
    "version": 3
   },
   "file_extension": ".py",
   "mimetype": "text/x-python",
   "name": "python",
   "nbconvert_exporter": "python",
   "pygments_lexer": "ipython3",
   "version": "3.9.12"
  }
 },
 "nbformat": 4,
 "nbformat_minor": 5
}
